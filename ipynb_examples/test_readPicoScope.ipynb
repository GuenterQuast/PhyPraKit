{
 "cells": [
  {
   "cell_type": "markdown",
   "metadata": {},
   "source": [
    "## Einlesen von PicoScope-Daten\n",
    "\n",
    "Das Codebeispiel `test_readPicoScope` liest Ausgabedateien von \n",
    "USB-Oszillographen der Marke PicoScope im Format `.csv` oder `.txt`.\n"
   ]
  },
  {
   "cell_type": "code",
   "execution_count": null,
   "metadata": {},
   "outputs": [],
   "source": [
    "#\n",
    "\"\"\"test_readPicoSocpe.py \n",
    "   read data exported by PicoScope usb-oscilloscope\n",
    "\n",
    ".. moduleauthor:: Guenter Quast <g.quast@kit.edu>\n",
    "\n",
    "\"\"\"\n",
    "\n",
    "from __future__ import print_function  # for python2.7 compatibility\n",
    "\n",
    "# -----example Code illustrating usage --------------------\n",
    "if __name__ == \"__main__\":\n",
    "    import numpy as np, matplotlib.pyplot as plt\n",
    "    from PhyPraKit import readPicoScope\n",
    "    from scipy import interpolate\n",
    "    from scipy import signal\n",
    "    import sys\n",
    "\n",
    "    # check for / read command line arguments\n",
    "    if len(sys.argv) == 2:\n",
    "        fname = sys.argv[1]\n",
    "    else:\n",
    "        fname = \"PicoScopeData.txt\"\n",
    "    print(\n",
    "        (\n",
    "            \"\\n*==* script \" + sys.argv[0] + \" executing \\n\",\n",
    "            \"     processing file \" + fname,\n",
    "        )\n",
    "    )\n",
    "\n",
    "    # read data from PicoScope\n",
    "    units, data = readPicoScope(fname, prlevel=2)\n",
    "    ic = len(data)\n",
    "\n",
    "    t = data[0]\n",
    "    # make a plot\n",
    "    fig = plt.figure(1, figsize=(5.0, 5.0))\n",
    "    ax1 = fig.add_subplot(1, 1, 1)\n",
    "    for i in range(1, ic):\n",
    "        ax1.plot(t, data[i])\n",
    "\n",
    "    plt.show()"
   ]
  }
 ],
 "metadata": {
  "anaconda-cloud": {},
  "kernelspec": {
   "display_name": "Python 3",
   "language": "python",
   "name": "python3"
  },
  "language_info": {
   "codemirror_mode": {
    "name": "ipython",
    "version": 3
   },
   "file_extension": ".py",
   "mimetype": "text/x-python",
   "name": "python",
   "nbconvert_exporter": "python",
   "pygments_lexer": "ipython3",
   "version": "3.6.13"
  }
 },
 "nbformat": 4,
 "nbformat_minor": 4
}
