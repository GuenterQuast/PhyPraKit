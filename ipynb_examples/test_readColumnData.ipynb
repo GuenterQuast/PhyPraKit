{
 "cells": [
  {
   "cell_type": "markdown",
   "metadata": {},
   "source": [
    " ## Einlesen von Daten aus Textdateien\n",
    " \n",
    "Dieser Code `test_readColumnData` ist ein Beispiel zum\n",
    "Einlesen von Spalten aus Textdateien; die zugehörigen \n",
    "*Metadaten* können ebenfalls an das Script übergeben werden."
   ]
  },
  {
   "cell_type": "code",
   "execution_count": null,
   "metadata": {},
   "outputs": [],
   "source": [
    "#\n",
    "\"\"\"test_readColumnData.py\n",
    "   test data input from text file with module PhyPraKit.readColumnData\n",
    "\n",
    ".. moduleauthor:: Guenter Quast <g.quast@kit.edu>\n",
    "\"\"\"\n",
    "\n",
    "from __future__ import print_function  # for python2.7 compatibility\n",
    "\n",
    "from PhyPraKit import readColumnData\n",
    "import numpy as np, matplotlib.pyplot as plt\n",
    "\n",
    "# ---------------------------------------------------------------\n",
    "if __name__ == \"__main__\":\n",
    "\n",
    "  fname='xyData.dat'\n",
    "\n",
    "  data_array, info_dict =\\\n",
    "    readColumnData(fname, delimiter=' ', pr=False)\n",
    "  ncolumns = data_array.shape[0]\n",
    "  nlines = data_array.shape[0]\n",
    "  if ncolumns != 4: \n",
    "    print((\" !!! erwarte vier Spalten, aber \", ncolumns, \" gelesen\"))\n",
    "    print(\"      Programm beendet\")\n",
    "    exit()\n",
    "\n",
    "# print what we got:\n",
    "  x=data_array[0] # 1st column\n",
    "  ex=data_array[1] # 2nd column\n",
    "  y=data_array[2] # 3rd column\n",
    "  ey=data_array[3] # 4th column\n",
    "\n",
    "  print((\"Title=\", info_dict['*TITLE']))\n",
    "  print((\"x= \", x))\n",
    "  print((\"y= \", y))\n",
    "  print((\"ex= \", ex))\n",
    "  print((\"ey= \", ey))\n",
    "    \n",
    "  print(\"keywords found:\")\n",
    "  for key in info_dict:\n",
    "    if (info_dict[key]!=None): print((key,':', info_dict[key]))\n",
    "\n",
    "# make a plot\n",
    "  fig=plt.figure(1, figsize=(5.,5.))\n",
    "  plt.errorbar(x , y, xerr=ex, yerr=ey, fmt='b.')\n",
    "# show systematic errors\n",
    "  exs = x * np.float32(info_dict['*xRelCor'])\n",
    "  eys = y * np.float32(info_dict['*yRelCor'])\n",
    "  plt.errorbar(x , y, xerr=exs, yerr=eys, fmt='r.')\n",
    "# and finally, the axis labels\n",
    "  plt.xlabel(info_dict['*xLabel'] +' / ' + info_dict['*xUnit'], size='x-large')\n",
    "  plt.ylabel(info_dict['*yLabel'], size='x-large')\n",
    "\n",
    "  plt.show()\n",
    "\n"
   ]
  }
 ],
 "metadata": {
  "anaconda-cloud": {},
  "kernelspec": {
   "display_name": "Python 3",
   "language": "python",
   "name": "python3"
  },
  "language_info": {
   "codemirror_mode": {
    "name": "ipython",
    "version": 3
   },
   "file_extension": ".py",
   "mimetype": "text/x-python",
   "name": "python",
   "nbconvert_exporter": "python",
   "pygments_lexer": "ipython3",
   "version": "3.6.13"
  }
 },
 "nbformat": 4,
 "nbformat_minor": 4
}
