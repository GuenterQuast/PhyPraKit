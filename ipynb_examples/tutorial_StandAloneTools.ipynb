{
 "cells": [
  {
   "cell_type": "markdown",
   "id": "154cdef0-8818-4e4d-aac6-2449906b451e",
   "metadata": {},
   "source": [
    "---\n",
    "# Jupyter notebook tutorial:\n",
    "### Test and demonstate usage of PhyPraKit stand-alone tools¶\n",
    "\n",
    "                                                Günter Quast, July 2023\n",
    "\n"
   ]
  },
  {
   "cell_type": "markdown",
   "id": "29316cb9-5f14-470b-97fe-17b03330a5a1",
   "metadata": {},
   "source": [
    "---\n",
    "---\n",
    "## Jupyter Notebook Fundamentals\n",
    "\n",
    "#This file of type `.ipynb` contains a tutorial as a `Jupyter notebook`.\n",
    "`Jupyter` provides a browser interface with a (simple) development environment \n",
    "for *Python* programs and explanatory texts in intuitive *Markdown* format.\n",
    "The input of formulas in *LaTeX* format is also supported.\n",
    "\n",
    "A summary of the most important commands for using *Jupyter* as a working environment can be\n",
    "found in the notebook\n",
    "[*JupyterCheatsheet.ipynb*](https://git.scc.kit.edu/yh5078/datenanalyse/-/blob/master/jupyter/JupyterCheatsheet.ipynb)\n",
    "(German).\n",
    "Basics for statistical data analysis can be found in the notebooks\n",
    "[*IntroStatistik.ipynb*](https://git.scc.kit.edu/yh5078/datenanalyse/-/blob/master/jupyter/IntroStatistik.ipynb)\n",
    "(German) and\n",
    "[*Fehlerrechnung.ipynb*](https://git.scc.kit.edu/yh5078/datenanalyse/-/blob/master/jupyter/Fehlerrechnung.ipynb) (German).\n",
    "\n",
    "In *Jupyter*, code and text are entered into individual cells.\n",
    "Active cells are indicated by a blue bar in the margin.\n",
    "They can be in two states: in edit mode the input field is white, in command mode it is grayed out.\n",
    "Clicking in the border area selects the command mode, clicking in the text field of a code cell\n",
    "switches to edit mode.\n",
    "The `esc` key can also be used to leave the edit mode.\n",
    "\n",
    "Pressing `a` in command mode creates a new empty cell above the active cell, `b` creates one below.\n",
    "Entering `dd` deletes the corresponding cell.\n",
    "\n",
    "Cells can be either of the type `Markdown` or `Code`.\n",
    "Entering `m` in command mode sets the type Markdown, entering `y` selects the type Code.\n",
    "\n",
    "The cell content is processed - i.e. setting text or executing code - by entering `shift+return`,\n",
    "or `alt+return` if a new, empty cell should also be created.\n",
    "\n",
    "The settings mentioned here as well as the insertion, deletion or execution of cells can also be\n",
    "executed via the pull-down menu at the top.\n",
    "\n",
    "---\n",
    "---\n"
   ]
  },
  {
   "cell_type": "markdown",
   "id": "b52f4687-5dc7-4f98-9ee8-8e8e46fe643c",
   "metadata": {},
   "source": [
    "## Test and demonstate usage of PhyPraKit stand-alone tools\n",
    "\n",
    "PhyPrakit provides some Python-Scripts that perform basic actions on data and fit models\n",
    "defined in a *yaml* file. In general, no extra private code is needed in addition.\n",
    "\n",
    "  - *plotData*   plot data and uncertainties from file in *yaml* format\n",
    "  - *plotCSV*    plot data from a file in CSV format; german ',' is replaced by '.'\n",
    "  - *run_phyFit* run a fit defined in a *yaml* file\n",
    "  - *csv2yaml*   convert data in CSV format (e.g. MS Excel export) to *yaml* format\n",
    "  - *smoothCSV*  resample data from a CSV file\n",
    "\n",
    "The **kafe2** package also provides a stand-alone tool,\n",
    "\n",
    "   - kafe2go     run a fit with *kafe2* from an input file in *yaml* format\n",
    "\n",
    "Execution of scripts is done by use of the Jupyter *%run* magic command. For this to work, the \n",
    "python script must be specified with its full path, or contained in the current jupyter work directory.\n"
   ]
  },
  {
   "cell_type": "markdown",
   "id": "4bc2a5bc-ac65-41ac-905a-85c9465e13e3",
   "metadata": {},
   "source": [
    "---\n",
    "\n",
    "## General remarks\n",
    "\n",
    "The stand-anlone scripts take a number of parametrs on the command line. If a script is started without \n",
    "any parameters, usage help is printed. See this example:"
   ]
  },
  {
   "cell_type": "code",
   "execution_count": null,
   "id": "0719321e-6a61-43ba-9a24-13df4e71498e",
   "metadata": {},
   "outputs": [],
   "source": [
    "%run plotCSV.py -h"
   ]
  },
  {
   "cell_type": "markdown",
   "id": "b816e7e8-f549-4b2f-93f5-1062f787a951",
   "metadata": {},
   "source": [
    "--- \n",
    "## Plot data fom CSV file\n",
    "\n",
    "CSV or \"comma separated values\" is a common data format in Data Science to store tabular data in human-radable format.\n",
    "\n",
    "As an example, we condiser the file  `Wellenform.csv\"; the first few kines look as follows:\n",
    "\n",
    "```\n",
    "Time,Channel A\n",
    "(ms),(V)\n",
    "\n",
    "-0.34927999,-0.00045778\n",
    "-0.34799999,-0.00045778\n",
    "-0.34671999,-0.00045778\n",
    "-0.34543999,-0.00045778\n",
    "        ...\n",
    "\n",
    "```\n",
    "These first three lines constiute the so-called \"header\" with meta-information describing the nature of\n",
    "the data in each of the columns with numerical values constituting the actueal data. \n",
    "The first line contains the so-calles \"keys\", i. e. the names of the data entries in the respecive columns, \n",
    "and the second line contains the physical units of these values. The third line is an empty one. \n",
    "The so-called \"field separator\" is `','` in this case.\n",
    "\n",
    "With this information and the help of the script introduced in the prevous cell we can now plot the data, \n",
    "i. e. generate a graphical representation thereof. As `,` is the default field separator, the only additional\n",
    "information needed is the total number of header lines, which is 3, so the command to execute is\n",
    "\n",
    "```%run plotCSV -H 3 Wellenform.csv```.\n",
    "\n",
    "Try it out on the following code cell:"
   ]
  },
  {
   "cell_type": "code",
   "execution_count": null,
   "id": "2e2360d5-dfc5-4e18-8af5-09ad5ee348e3",
   "metadata": {},
   "outputs": [],
   "source": [
    "%run plotCSV -H 3 Wellenform.csv"
   ]
  },
  {
   "cell_type": "markdown",
   "id": "ab25d1fd-54d6-437e-a219-770ba6a7c9c9",
   "metadata": {},
   "source": [
    "As a result, a properly labelled graph is shown. "
   ]
  },
  {
   "cell_type": "markdown",
   "id": "ca210830-af3d-4db1-a113-5511cf7d8362",
   "metadata": {},
   "source": [
    "---\n",
    "\n",
    "## Statistical analysis of measured data\n",
    "\n",
    "A typicalfirst step in data analyis consists of inspecting a frequency distribution of measured data.\n",
    "The program *plotData* contains the necessary code; it shows the distribution and calculates the mean\n",
    "and standard deviation of the data. The file *simple_data.yaml*, as shown below, contains all the necessary\n",
    "input an can easily be worked on using the Editor provided by Jupyter. Just double-click on the file name\n",
    "in the file list on the left-hand side in your Jupyter window to open it. To generate a new file, right-click\n",
    "in the list, provide a name of a new, empty file, and open it by double-clicking. \n",
    "\n",
    "```\n",
    "  # Beispiel einer Histogramm-Darstellung\n",
    "  # -------------------------------------\n",
    "  type: histogram\n",
    "  title: \"Wiederholte Messungen von Tischhöhen\"\n",
    "  label: Beispieldaten\n",
    "  x_label: 'Höhe h (cm)'\n",
    "  y_label: 'Verteilungsdichte f(h)'\n",
    "\n",
    "  # Daten:\n",
    "  raw_data: [\n",
    "  79.83,79.63,79.68,79.82,80.81,79.97,79.68,80.32,79.69,79.18,\n",
    "  80.04,79.80,79.98,80.15,79.77,80.30,80.18,80.25,79.88,80.02 ]\n",
    "  n_bins: 20\n",
    "  bin_range: [79., 81.]\n",
    "  # alternatively an array for the bin edges can be specified\n",
    "  #bin_edges: [79., 79.5, 80, 80.5, 81.]\n",
    "\n",
    "  model_label: Gauss-Verteilung\n",
    "  model_density_function: |\n",
    "    def normal_distribution(x, mu=79.9, sigma=0.346):\n",
    "      return np.exp(-0.5 *((x-mu)/sigma)**2)/np.sqrt(2.*np.pi*sigma**2)\n",
    "```\n",
    "\n",
    "The simple command to run the example looks like this: \n",
    "\n",
    "```\n",
    "%run plotData simple_data.ydat\n",
    "```"
   ]
  },
  {
   "cell_type": "code",
   "execution_count": null,
   "id": "ba403da0-e77a-4dd8-ac44-fabd5d1d9e93",
   "metadata": {},
   "outputs": [],
   "source": [
    "%run plotData simple_data.ydat"
   ]
  },
  {
   "cell_type": "markdown",
   "id": "3a756b8a-4e65-4f5e-a089-45bbacf743b6",
   "metadata": {},
   "source": [
    "---\n",
    "\n",
    "## Performing fits of analytical models to data"
   ]
  },
  {
   "cell_type": "markdown",
   "id": "862128be-15b2-4599-bb1b-4fb49463f6c9",
   "metadata": {},
   "source": [
    "Fitting models to experimental data, or parametrizing measuements with a functional dependence,\n",
    "is another one of the routine tasks in data analysis. Two stand-alone fitting programs relying on\n",
    "the *phyFit* or *kafe2* packages are provided:  \n",
    "\n",
    " - kafe2go\n",
    " - run_phyFit\n",
    "\n",
    "First, let us see how the interfaces are defined by running the scrips with the -h key (for \"help\"):"
   ]
  },
  {
   "cell_type": "code",
   "execution_count": null,
   "id": "1bee9f91-83ba-4484-848c-84a701eff076",
   "metadata": {},
   "outputs": [],
   "source": [
    "%run run_phyFit -h"
   ]
  },
  {
   "cell_type": "code",
   "execution_count": null,
   "id": "d2c32f7c-7f3b-4825-b88e-fa2495a8709e",
   "metadata": {},
   "outputs": [],
   "source": [
    "%run kafe2go.py -h"
   ]
  },
  {
   "cell_type": "markdown",
   "id": "1cc9c295-a8cf-4a23-b2e7-6e415c6ebc8a",
   "metadata": {},
   "source": [
    "Now, run a very simple fit of a straight line to data with only independent uncertainties in the x- and y-directions, as\n",
    "specified in the file *simpleFit.fit*. You may want to inspect the input by double-clicking on the file name. "
   ]
  },
  {
   "cell_type": "code",
   "execution_count": null,
   "id": "ba98ba1d-156c-4925-a173-d84d8de9c1b3",
   "metadata": {},
   "outputs": [],
   "source": [
    "%run run_phyFit simpleFit.yfit"
   ]
  },
  {
   "cell_type": "code",
   "execution_count": null,
   "id": "ff194337-d7ce-43d0-a255-52fcbad90fb6",
   "metadata": {},
   "outputs": [],
   "source": [
    "%run kafe2go simpleFit.yfit"
   ]
  },
  {
   "cell_type": "markdown",
   "id": "91a32295-e3d3-4670-ac55-98f7bdd63953",
   "metadata": {},
   "source": [
    "#### A more complex fit example with different types of uncertainties\n",
    "\n",
    "In many cases, uncertainties are a bit more complex than in the previous example. We\n",
    "now consider different types of uncertainties affecting the x- and/or y-directions. \n",
    "These can be independent or correlated, or absolute or relative, as examplified in the \n",
    "file *test_xy.fit*. To inspect this input file, double-click on the name in the directory listing on the left-hand side. The file will be displayed in an editor tab, from where\n",
    "it is possible to change the contents and try out modifications. \n",
    "Executing this example is not more complicated than the first one:"
   ]
  },
  {
   "cell_type": "code",
   "execution_count": null,
   "id": "ad79f5d2-04cc-432b-a239-8b65dd3cd7b2",
   "metadata": {},
   "outputs": [],
   "source": [
    "%run run_phyFit.py test_xy.yfit"
   ]
  },
  {
   "cell_type": "markdown",
   "id": "59a02771-01f2-4f66-9016-4dc512791457",
   "metadata": {},
   "source": [
    "Note that a simplified data format is used above relying on default values for the properties of uncertainties,\n",
    "which are assumed to be independent, absolute and uncorrelated if not specified otherwise. Running *kafe2* yields the same result as *phyFit*, if the option to calculate asymmetric\n",
    "parameter uncertainties is chosen. This is shown here:"
   ]
  },
  {
   "cell_type": "code",
   "execution_count": null,
   "id": "9fca099d-bc12-401f-be3c-2ad609572222",
   "metadata": {},
   "outputs": [],
   "source": [
    "%run kafe2go --asymmetric test_xy.yfit"
   ]
  },
  {
   "cell_type": "markdown",
   "id": "a16d9c50-11b3-4a88-b5c8-0868d99f0d84",
   "metadata": {},
   "source": [
    "## Fitting a model to histogram data\n",
    "Fitting a model to histogram data is also possible. In this case a cost function based\n",
    "on least-suares is often not a good approximation, and threfore both *phyFit* and *kafe2* \n",
    "use as the default a negative-Log-likelihood function taking care of the Poisson nature of \n",
    "the uncertainties. Here are the commands to run the example with *phyFit* and *kafe2*:"
   ]
  },
  {
   "cell_type": "code",
   "execution_count": null,
   "id": "90bb50ab-0c1b-47e1-9727-53e4daedd01f",
   "metadata": {},
   "outputs": [],
   "source": [
    "%run run_phyFit.py hFit.yfit"
   ]
  },
  {
   "cell_type": "code",
   "execution_count": null,
   "id": "adf0c36a-8d3b-4a42-917d-2c777c4f5afb",
   "metadata": {},
   "outputs": [],
   "source": [
    "%run kafe2go hFit.yfit"
   ]
  },
  {
   "cell_type": "markdown",
   "id": "4a0edb5d-8bba-4c37-be0b-9d9440c87203",
   "metadata": {},
   "source": [
    "--- \n",
    "\n",
    "## Handling data in CSV - Format\n",
    "\n",
    "The CSV (for Comma- or Charachter-Separated Values) is quite common in data science, and \n",
    "many software packages or hardware devices export data in this format or at least support\n",
    "it (including MS EXCEL and Leybold Cassy). \n",
    "\n",
    "PhyPraKit provides the tool *csv2yml* to ease the conversion to the more general *yaml* \n",
    "format. After converting the input data, extra lines can be added using any text editor\n",
    "or, better, the editor provided as part of Jupyter Notebooks. \n",
    "Here is an example without input showing all options:"
   ]
  },
  {
   "cell_type": "code",
   "execution_count": null,
   "id": "8885c11e-8f56-4a36-909c-cde854afee6c",
   "metadata": {},
   "outputs": [],
   "source": [
    "%run csv2yml.py -h"
   ]
  },
  {
   "cell_type": "markdown",
   "id": "e943b3a4-9529-4ee2-b442-3deb9f120d32",
   "metadata": {},
   "source": [
    "#### CSV Example\n",
    " \n",
    " The command to convert a file with audio data looks like this:"
   ]
  },
  {
   "cell_type": "code",
   "execution_count": null,
   "id": "85571254-e2a0-4675-aabe-ab4ce36f1a20",
   "metadata": {},
   "outputs": [],
   "source": [
    "%run csv2yml.py AudioData.csv"
   ]
  },
  {
   "cell_type": "markdown",
   "id": "36420616-4b25-4fd2-9095-6e30e54bc525",
   "metadata": {},
   "source": [
    "The CSV tools of PhyPraKit also can handle the output of typical Windows-Programs using decimal commas \n",
    "instead of the internationally used dot. To be unambiguous, the field delimiter is then `';'` and not the\n",
    "usual commal. We just need to tell the tools *csv2yml*, *plotCSV* or *smoothCSV* to take this into account.\n",
    "To generate a valid *yaml* block from such an input, execute: "
   ]
  },
  {
   "cell_type": "code",
   "execution_count": null,
   "id": "026b25f0-e0ef-4606-a519-e1f20a676640",
   "metadata": {},
   "outputs": [],
   "source": [
    "%run csv2yml -d \";\" Excel_output.csv"
   ]
  },
  {
   "cell_type": "markdown",
   "id": "f70cff39-3ff7-458c-b3d7-018ae9e1614a",
   "metadata": {},
   "source": [
    "Using a text editor, e.g. by creating a new, empty file by right-clicking in the director list on the left-hand side\n",
    "and double-clicking on it, the *yaml*-block from the above output can be copied to a new *yaml*-file. Mark by moving\n",
    "the mouse over the respecive lines with left button pressed, then press `<ctrl>-c` to copy; activate the destination \n",
    "window and area by pointing with the mouse and left-clicking, then type `<ctrl>-v`. \n",
    "\n",
    "This file should also contain additional information, most importantly  the \"meta-data\" giving information \n",
    "on the origin of the data. Possibly the key fields need adjustments to be compatible with *run_phyFit* or \n",
    "*kafe2go*, and a fit model should be added.\n",
    "\n",
    "A valid fit-input file for a straight-line-fit based on the data contained in the file *Excel_output.csv* looks like this:\n",
    "\n",
    "```\n",
    "x_data: [0.05, 0.36, 0.68, 0.8, 1.09, 1.46, 1.71, 1.83, 2.44, 2.09, 3.72, 4.36, 4.6]\n",
    "y_data: [0.35, 0.26, 0.52, 0.44, 0.48, 0.55, 0.66, 0.48, 0.75, 0.7, 0.75, 0.8, 0.9]\n",
    "y_errors: [0.06, 0.07, 0.05, 0.05, 0.07, 0.07, 0.09, 0.1, 0.11, 0.1, 0.11, 0.12, 0.1]\n",
    "x_errors: 3% \n",
    "\n",
    "# model specification\n",
    "model_label: 'line fit'\n",
    "model_function: |\n",
    "    def linModel(x, a=0, y0=1.):\n",
    "      return y0 + a * x\n",
    "```"
   ]
  },
  {
   "cell_type": "code",
   "execution_count": null,
   "id": "89bdc276-a3cf-4239-b4c3-ae0d16202f9d",
   "metadata": {},
   "outputs": [],
   "source": [
    "%run run_phyFit.py simpleFit.yfit"
   ]
  },
  {
   "cell_type": "markdown",
   "id": "0d56e258-7a3e-463d-a638-11339e4bc449",
   "metadata": {},
   "source": [
    "### Fixing oversampling issues\n",
    "\n",
    "Sometimes exported CSV data suffer from oversampling, i. e. far too many values are recorded for\n",
    "as meaningful analysis of the data. Fortunately, this can be fixed retrospectively using the\n",
    "stand-alone tool *smoothCSV*. Execute the following line to see what it is meant to do:"
   ]
  },
  {
   "cell_type": "code",
   "execution_count": null,
   "id": "3ff46332-23ed-4de3-866b-8ad7d515eb6a",
   "metadata": {},
   "outputs": [],
   "source": [
    "%run smoothCSV -h"
   ]
  },
  {
   "cell_type": "code",
   "execution_count": null,
   "id": "7c2b7bda-e1c7-4530-9e1d-fa7b79da2ac5",
   "metadata": {},
   "outputs": [],
   "source": [
    "%run smoothCSV -H 3 -w 10 -r Wellenform.csv"
   ]
  },
  {
   "cell_type": "markdown",
   "id": "8d63c926-1f9e-459e-8bd1-7d9face33d53",
   "metadata": {},
   "source": [
    "The result of this action is a significantly reduced data volume of the \n",
    "waveform shown in the very first example of this tuorial notebook. "
   ]
  },
  {
   "cell_type": "code",
   "execution_count": null,
   "id": "dbb9d448-cbad-4ec6-81e5-e8aa448de498",
   "metadata": {},
   "outputs": [],
   "source": []
  }
 ],
 "metadata": {
  "kernelspec": {
   "display_name": "Python 3 (ipykernel)",
   "language": "python",
   "name": "python3"
  },
  "language_info": {
   "codemirror_mode": {
    "name": "ipython",
    "version": 3
   },
   "file_extension": ".py",
   "mimetype": "text/x-python",
   "name": "python",
   "nbconvert_exporter": "python",
   "pygments_lexer": "ipython3",
   "version": "3.11.4"
  }
 },
 "nbformat": 4,
 "nbformat_minor": 5
}
