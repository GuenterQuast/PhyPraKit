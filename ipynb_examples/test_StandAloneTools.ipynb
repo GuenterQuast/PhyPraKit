{
 "cells": [
  {
   "cell_type": "markdown",
   "id": "b52f4687-5dc7-4f98-9ee8-8e8e46fe643c",
   "metadata": {},
   "source": [
    "## Test and demonstate usage of PhyPraKit stand-alone tools\n",
    "\n",
    "PhyPrakit provides some Python-Scripts that perform basic actions on data and fit models\n",
    "defined in a *yaml* file. In general, no extra private code is needed in addition.\n",
    "\n",
    "  - *plotData*   plot data and uncertainties from file in *yaml* format\n",
    "  - *plotCSV*    plot data from a file in CSV format; german ',' is replaced by '.'\n",
    "  - *run_phyFit* run a fit defined in a *yaml* file\n",
    "  - *csv2yaml*   convert data in CSV format (e.g. MS Excel export) to *yaml* format\n",
    "  - *smoothCSV*  resample data from a CSV file\n",
    "\n",
    "The **kafe2** package also provides a stand-alone tool,\n",
    "\n",
    "   - kafe2go     run a fit with *kafe2* from an input file in *yaml* format\n",
    "\n",
    "Execution of scripts is done by use of the Jupyter *%run* magic command. For this to work, the \n",
    "python script must be specified with its full path, or contained in the current jupyter work directory.\n"
   ]
  },
  {
   "cell_type": "markdown",
   "id": "4bc2a5bc-ac65-41ac-905a-85c9465e13e3",
   "metadata": {},
   "source": [
    "### General remarks\n",
    "\n",
    "The stand-anlone scripts take a number of parametrs on the command line. If a script is started without \n",
    "any parameters, usage help is printed. See this example:"
   ]
  },
  {
   "cell_type": "code",
   "execution_count": null,
   "id": "0719321e-6a61-43ba-9a24-13df4e71498e",
   "metadata": {},
   "outputs": [],
   "source": [
    "%run plotCSV.py"
   ]
  },
  {
   "cell_type": "markdown",
   "id": "b816e7e8-f549-4b2f-93f5-1062f787a951",
   "metadata": {},
   "source": [
    "### Plot data fom CSV file"
   ]
  },
  {
   "cell_type": "code",
   "execution_count": null,
   "id": "2e2360d5-dfc5-4e18-8af5-09ad5ee348e3",
   "metadata": {},
   "outputs": [],
   "source": [
    "%run plotCSV -H 2 Wellenform.csv"
   ]
  },
  {
   "cell_type": "markdown",
   "id": "ca210830-af3d-4db1-a113-5511cf7d8362",
   "metadata": {},
   "source": [
    "## Statistical analysis of measured data\n",
    "\n",
    "The first step in data analyis usually consists of inspecting a frequency distribution of measured data.\n",
    "The program *plotData* contains the necessary code; it shows the distribution and calculates the mean\n",
    "and standard deviation of the data. The file *simple_data.yaml*, as shown below, contains all the necessary\n",
    "input an can easily be worked on using with the Editor provided by Jupyter. Just double-click on the file name\n",
    "in the file list on the left-hand side in your Jupyter window to open it. To generate a new file, right-click\n",
    "in the list, provide a name of a new, empty file, and open it by double-clicking. \n",
    "\n",
    "```\n",
    "  # Beispiel einer Histogramm-Darstellung\n",
    "  # -------------------------------------\n",
    "  type: histogram\n",
    "  title: \"Wiederholte Messungen von Tischhöhen\"\n",
    "  label: Beispieldaten\n",
    "  x_label: 'Höhe h (cm)'\n",
    "  y_label: 'Verteilungsdichte f(h)'\n",
    "\n",
    "  # Daten:\n",
    "  raw_data: [\n",
    "  79.83,79.63,79.68,79.82,80.81,79.97,79.68,80.32,79.69,79.18,\n",
    "  80.04,79.80,79.98,80.15,79.77,80.30,80.18,80.25,79.88,80.02 ]\n",
    "  n_bins: 20\n",
    "  bin_range: [79., 81.]\n",
    "  # alternatively an array for the bin edges can be specified\n",
    "  #bin_edges: [79., 79.5, 80, 80.5, 81.]\n",
    "\n",
    "  model_label: Gauss-Verteilung\n",
    "  model_density_function: |\n",
    "    def normal_distribution(x, mu=79.9, sigma=0.346):\n",
    "      return np.exp(-0.5 *((x-mu)/sigma)**2)/np.sqrt(2.*np.pi*sigma**2)\n",
    "```\n",
    "\n",
    "The simple command to run the example looks like this: "
   ]
  },
  {
   "cell_type": "code",
   "execution_count": null,
   "id": "ba403da0-e77a-4dd8-ac44-fabd5d1d9e93",
   "metadata": {},
   "outputs": [],
   "source": [
    "%run plotData simple_data.yaml"
   ]
  },
  {
   "cell_type": "code",
   "execution_count": null,
   "id": "f7441181-f844-4da4-9fc9-9ecacd7d33b4",
   "metadata": {},
   "outputs": [],
   "source": []
  },
  {
   "cell_type": "markdown",
   "id": "3a756b8a-4e65-4f5e-a089-45bbacf743b6",
   "metadata": {},
   "source": [
    "### Run a simple fit"
   ]
  },
  {
   "cell_type": "markdown",
   "id": "862128be-15b2-4599-bb1b-4fb49463f6c9",
   "metadata": {},
   "source": [
    "Fiting models experimental data, or parametriing measuements with a functional depencence,\n",
    "is one of the routine tasks in data analysis. Tow powerful fitting programs relying on\n",
    "the *phyFit* or *kafe2* packages are provided:  \n",
    "\n",
    " - kafe2go\n",
    " - run_phyFit\n",
    "\n",
    "\n",
    "First, let us see how the interfaces are defined by running the scrips with the -h key (for \"help\"):"
   ]
  },
  {
   "cell_type": "code",
   "execution_count": null,
   "id": "1bee9f91-83ba-4484-848c-84a701eff076",
   "metadata": {},
   "outputs": [],
   "source": [
    "%run run_phyFit -h"
   ]
  },
  {
   "cell_type": "code",
   "execution_count": null,
   "id": "d2c32f7c-7f3b-4825-b88e-fa2495a8709e",
   "metadata": {},
   "outputs": [],
   "source": [
    "%run kafe2go.py -h"
   ]
  },
  {
   "cell_type": "markdown",
   "id": "1cc9c295-a8cf-4a23-b2e7-6e415c6ebc8a",
   "metadata": {},
   "source": [
    "Now, run a very simple fit of a straight line to data with only independent uncertainties in the x- and y-directions, as\n",
    "specified in the file *simpleFit.fit*. You may want to inspect the input by double-clicking on the file name. "
   ]
  },
  {
   "cell_type": "code",
   "execution_count": null,
   "id": "ba98ba1d-156c-4925-a173-d84d8de9c1b3",
   "metadata": {},
   "outputs": [],
   "source": [
    "%run run_phyFit simpleFit.fit"
   ]
  },
  {
   "cell_type": "code",
   "execution_count": null,
   "id": "ff194337-d7ce-43d0-a255-52fcbad90fb6",
   "metadata": {},
   "outputs": [],
   "source": [
    "%run kafe2go simpleFit.fit"
   ]
  },
  {
   "cell_type": "markdown",
   "id": "91a32295-e3d3-4670-ac55-98f7bdd63953",
   "metadata": {},
   "source": [
    "#### A more complex fit example with different types of uncertainties\n",
    "\n",
    "To inspect the input file, double-click on the name *xyFit.fit* in the directory listing on the left-hand side.\n",
    "It will open in the editor in a new tab. It is possible to change this file and try out modifications. Executing\n",
    "this example is not more complicated than the first one:"
   ]
  },
  {
   "cell_type": "code",
   "execution_count": null,
   "id": "ad79f5d2-04cc-432b-a239-8b65dd3cd7b2",
   "metadata": {
    "scrolled": true
   },
   "outputs": [],
   "source": [
    "%run run_phyFit.py test_xy.fit"
   ]
  },
  {
   "cell_type": "markdown",
   "id": "59a02771-01f2-4f66-9016-4dc512791457",
   "metadata": {},
   "source": [
    "Note that a simplified data format is used above relying on default values for the properties of uncertainties,\n",
    "which are assumed to be independent, absolute and uncorrelated if not specified otherwise. Running *kafe2* yields\n",
    "the same result as *phyFit*: "
   ]
  },
  {
   "cell_type": "code",
   "execution_count": null,
   "id": "9fca099d-bc12-401f-be3c-2ad609572222",
   "metadata": {},
   "outputs": [],
   "source": [
    "%run kafe2go --asymmetric test_xy.fit"
   ]
  },
  {
   "cell_type": "markdown",
   "id": "a16d9c50-11b3-4a88-b5c8-0868d99f0d84",
   "metadata": {},
   "source": [
    "## Fitting a model to histogram data\n",
    "Fitting a model to histogram data is also possible. Note that in this case both\n",
    "*phyFit* and *kafe2* use a negative-Log-likelihood function taking care of the\n",
    "Poisson nature of the uncertainties. Here the command to run:"
   ]
  },
  {
   "cell_type": "code",
   "execution_count": null,
   "id": "90bb50ab-0c1b-47e1-9727-53e4daedd01f",
   "metadata": {
    "scrolled": true
   },
   "outputs": [],
   "source": [
    "%run run_phyFit.py hFit.fit"
   ]
  },
  {
   "cell_type": "markdown",
   "id": "86e2f5ea-afd2-4bda-81d5-378bc52edec9",
   "metadata": {},
   "source": [
    "And here the same with kafe2go: "
   ]
  },
  {
   "cell_type": "code",
   "execution_count": null,
   "id": "adf0c36a-8d3b-4a42-917d-2c777c4f5afb",
   "metadata": {},
   "outputs": [],
   "source": [
    "%run kafe2go hFit.fit"
   ]
  },
  {
   "cell_type": "markdown",
   "id": "4a0edb5d-8bba-4c37-be0b-9d9440c87203",
   "metadata": {},
   "source": [
    "### Handling data in CSV - Format\n",
    "\n",
    "The CSV (for Comma- or Charachter-Separated Values) is quite common in data science, and \n",
    "many software packages export data in this format or support it (including Leybold Cassy\n",
    "and MS EXCEL). \n",
    "\n",
    "PhyPraKit provides a tool to ease the conversion to the more general *yaml* format. After\n",
    "converting the input data, extra lines can be added using ana text editor or, better the \n",
    "editor provided as part of Jupyter Notebooks. Here is an example wihtout input showing\n",
    "all options:"
   ]
  },
  {
   "cell_type": "code",
   "execution_count": null,
   "id": "8885c11e-8f56-4a36-909c-cde854afee6c",
   "metadata": {},
   "outputs": [],
   "source": [
    "%run csv2yml.py -h"
   ]
  },
  {
   "cell_type": "markdown",
   "id": "e943b3a4-9529-4ee2-b442-3deb9f120d32",
   "metadata": {},
   "source": [
    "### The input to convert a file with audio data looks like this:"
   ]
  },
  {
   "cell_type": "code",
   "execution_count": null,
   "id": "85571254-e2a0-4675-aabe-ab4ce36f1a20",
   "metadata": {
    "scrolled": true
   },
   "outputs": [],
   "source": [
    "%run csv2yml.py AudioData.csv"
   ]
  },
  {
   "cell_type": "markdown",
   "id": "36420616-4b25-4fd2-9095-6e30e54bc525",
   "metadata": {},
   "source": [
    "The CSV tools of PhyPraKit also can handle the output of typical Windows-Programs using decimal commas \n",
    "instead of the internationally used dot. To be unambiguous, the field delimiter is then \";\" and not the\n",
    "usua commal. We just need to tell plotCSV to obtain valid *yaml* format from such an input:"
   ]
  },
  {
   "cell_type": "code",
   "execution_count": null,
   "id": "026b25f0-e0ef-4606-a519-e1f20a676640",
   "metadata": {},
   "outputs": [],
   "source": [
    "%run csv2yml -d \";\" Excel_output.csv"
   ]
  },
  {
   "cell_type": "markdown",
   "id": "f70cff39-3ff7-458c-b3d7-018ae9e1614a",
   "metadata": {},
   "source": [
    "Using a text editor, e.g. by creating a new, empty file by right-clicking in the director list on the left-hand side and double-clicking on it,\n",
    "the *yaml*-block from the above output can be copied to a new *yaml*-file.  This file should contain additional information, most importantly \n",
    "\"meta-data\" giving on the origin of the data, adjustments of the field keys to be compatible wiht *run_phyFit* or *kafe2go*, and a fit model.\n",
    "\n",
    "A valid fit-input file for a straight-line-fit looks like this:\n",
    "\n",
    "```\n",
    "x_data: [0.05, 0.36, 0.68, 0.8, 1.09, 1.46, 1.71, 1.83, 2.44, 2.09, 3.72, 4.36, 4.6]\n",
    "y_data: [0.35, 0.26, 0.52, 0.44, 0.48, 0.55, 0.66, 0.48, 0.75, 0.7, 0.75, 0.8, 0.9]\n",
    "y_errors: [0.06, 0.07, 0.05, 0.05, 0.07, 0.07, 0.09, 0.1, 0.11, 0.1, 0.11, 0.12, 0.1]\n",
    "x_errors: 3% \n",
    "\n",
    "# model specification\n",
    "model_label: 'line fit'\n",
    "model_function: |\n",
    "    def linModel(x, a=0, y0=1.):\n",
    "      return y0 + a * x\n",
    "```"
   ]
  },
  {
   "cell_type": "code",
   "execution_count": null,
   "id": "89bdc276-a3cf-4239-b4c3-ae0d16202f9d",
   "metadata": {},
   "outputs": [],
   "source": [
    "%run run_phyFit.py from_Excel.fit"
   ]
  },
  {
   "cell_type": "code",
   "execution_count": null,
   "id": "71b8bfd4-3740-4d78-9610-a5519ece33ee",
   "metadata": {},
   "outputs": [],
   "source": []
  }
 ],
 "metadata": {
  "kernelspec": {
   "display_name": "Python 3 (ipykernel)",
   "language": "python",
   "name": "python3"
  },
  "language_info": {
   "codemirror_mode": {
    "name": "ipython",
    "version": 3
   },
   "file_extension": ".py",
   "mimetype": "text/x-python",
   "name": "python",
   "nbconvert_exporter": "python",
   "pygments_lexer": "ipython3",
   "version": "3.11.3"
  }
 },
 "nbformat": 4,
 "nbformat_minor": 5
}
