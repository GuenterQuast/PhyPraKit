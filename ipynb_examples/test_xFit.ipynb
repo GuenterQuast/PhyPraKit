{
 "cells": [
  {
   "cell_type": "markdown",
   "metadata": {},
   "source": [
    "## Anpassung an indizierte Daten\n",
    "\n",
    "Im allgemeinen Fall wird eine mit Unsicherheiten behaftete Menge an Größen $x_i$ \n",
    "durch eine parameterbehaftete Modellvorhersage beschreiben. Häufig sind dabei die \n",
    "$x_i$ auch von anderen Größen $x_j$ in diesem Datensatz abhängig, $x_i(x_j, *par)$.\n",
    "\n",
    "Beispiele sind die Weiterbehandlung von Ergebnissen aus Anpassungen an verschiedene\n",
    "Messreihen, also z.B. Mittelwertbildung oder Umparametrisierungen, um aus Messdaten\n",
    "Größen zu erhalten, die in theoretischen Modellen verwendet werden, in der Quantenphysik\n",
    "z.B. gemessene Wirkungsquerschnitte, die von Summen von Quadraten und Produkten \n",
    "von Kopplungskonstanten abhängen. \n",
    "\n",
    "In diesem kurzen Code-Beispiel werden zwei Messungen in Polarkoordinaten gemittelt\n",
    "und dabei in kartesische Koordinaten umgewandelt. Verwendet wird die Klasse *phyFit.mnFit*\n",
    "mit der Option \"*indexed*\", die in der Wrapper-Fuktion *phyFit.xFit* gekapselt ist. "
   ]
  },
  {
   "cell_type": "code",
   "execution_count": null,
   "metadata": {},
   "outputs": [],
   "source": [
    "#! /usr/bin/env python3\n",
    "\"\"\"test_xFit.py\n",
    "   fit to indexed data x_i with iminiut\n",
    "\n",
    ".. moduleauthor:: Guenter Quast <g.quast@kit.edu>\n",
    "\n",
    "\"\"\"\n",
    "\n",
    "import numpy as np, matplotlib.pyplot as plt\n",
    "##from PhyPraKit.phyFit import xFit\n",
    "from PhyPraKit import xFit\n",
    "\n",
    "if __name__ == \"__main__\": # --------------------------------------  \n",
    "  #\n",
    "  # *** Example of an application of phyFit.xFit() to fit indexed data\n",
    "  #\n",
    "  #     Coordinates in r-phi are averaged and transformed to cartesian \n",
    "    \n",
    "    def cartesian_to_polar(data, x=1., y=1.):\n",
    "      # determine polar coordinats from cartesian (x,y)\n",
    "      nm = len(data)//2 # expect two arrays with measurements\n",
    "      r = np.sqrt(x*x + y*y) * np.ones(nm)\n",
    "      phi = np.arctan2(y, x) * np.ones(nm)\n",
    "      return np.concatenate( (r, phi) )\n",
    "\n",
    "    # example: (r, phi) of two space points in polar coordinates\n",
    "    pars = np.array([0.9, 0.87, 0.755, 0.790])\n",
    "    puncs = np.array([0.027, 0.023, 0.16, 0.13])\n",
    "\n",
    "    # perform fit to data with function xFit using class mnFit\n",
    "    resultDict = xFit(cartesian_to_polar, pars, s = puncs,\n",
    "                       srel=None, sabscor=None, srelcor=None,\n",
    "                       names=['r', 'r', r'$\\varphi$', r'$\\varphi$'],\n",
    "                      # p0=(1., 1.),     \n",
    "                       use_negLogL=True,\n",
    "                       plot=True,\n",
    "                       plot_band=True,\n",
    "                       plot_cor=True,\n",
    "                       showplots=False,\n",
    "                       quiet=False,\n",
    "                       axis_labels=['Index', 'x   \\  x(*par)'], \n",
    "                       data_legend = 'Polar Data',    \n",
    "                       model_legend = 'r-phi from x-y')\n",
    "    plt.suptitle(\"mnFit example: fit to indexed data\",\n",
    "               size='xx-large', color='darkblue')\n",
    "    \n",
    "  # Print results \n",
    "    pvals, perrs, cor, chi2, pnams = resultDict.values()\n",
    "    print('\\n*==* xyFit Result:')\n",
    "    print(\" parameter names:       \", pnams)\n",
    "    print(\" chi2: {:.3g}\".format(chi2))\n",
    "    print(\" parameter values:      \", pvals)\n",
    "    print(\" neg. parameter errors: \", perrs[:,0])\n",
    "    print(\" pos. parameter errors: \", perrs[:,1])\n",
    "    print(\" correlations : \\n\", cor)\n",
    "\n",
    "    plt.show()\n"
   ]
  },
  {
   "cell_type": "code",
   "execution_count": null,
   "metadata": {},
   "outputs": [],
   "source": []
  }
 ],
 "metadata": {
  "kernelspec": {
   "display_name": "Python 3",
   "language": "python",
   "name": "python3"
  },
  "language_info": {
   "codemirror_mode": {
    "name": "ipython",
    "version": 3
   },
   "file_extension": ".py",
   "mimetype": "text/x-python",
   "name": "python",
   "nbconvert_exporter": "python",
   "pygments_lexer": "ipython3",
   "version": "3.6.12"
  }
 },
 "nbformat": 4,
 "nbformat_minor": 4
}
