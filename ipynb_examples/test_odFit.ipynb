{
 "cells": [
  {
   "cell_type": "markdown",
   "metadata": {},
   "source": [
    "## Funktionsanpassung mit *scipy*\n",
    "\n",
    "Dieser Code (`test_odFit`) verwendet die Pakete *scipy.oprimize.curvefit* \n",
    "und *scipy.odr* zur Anpassung einer Funktion an Messdaten mit \n",
    "Unsicherheiten in Ordinaten- und Abszissenrichtung. Korrelierte\n",
    "oder relative Unsicherheiten werden nicht unterstützt. \n",
    "\n"
   ]
  },
  {
   "cell_type": "code",
   "execution_count": null,
   "metadata": {},
   "outputs": [],
   "source": [
    "#! /usr/bin/env python\n",
    "\"\"\"test_odFit\n",
    "   test fitting an arbitrary fucntion with scipy odr, \n",
    "   with uncertainties in x and y \n",
    "\n",
    ".. moduleauthor:: Guenter Quast <g.quast@kit.edu>\n",
    "\"\"\"\n",
    "\n",
    "from __future__ import print_function  # for python2.7 compatibility\n",
    "\n",
    "from PhyPraKit import generateXYdata, odFit\n",
    "import numpy as np, matplotlib.pyplot as plt\n",
    "\n",
    "\n",
    "# -- the model function\n",
    "def model(x, a=0.3, b=1.0, c=1.0):\n",
    "    return a * x**2 + b * x + c\n",
    "\n",
    "\n",
    "if __name__ == \"__main__\":  # --------------------------------------\n",
    "    # parameters for the generation of test data\n",
    "    sigx_abs = 0.2  # absolute error on x\n",
    "    sigy_abs = 0.1  # relative error on y\n",
    "    xmin = 1.0\n",
    "    xmax = 10.0\n",
    "    xdata = np.arange(xmin, xmax + 1.0, 1.0)\n",
    "    nd = len(xdata)\n",
    "    mpars = [0.3, -1.5, 0.5]\n",
    "\n",
    "    # generate the data\n",
    "    xt, yt, ydata = generateXYdata(xdata, model, sigx_abs, sigy_abs, mpar=mpars)\n",
    "\n",
    "    # fit with odFit (uses scipy.curve_fit and scipy.odr)\n",
    "    par, pare, cor, chi2 = odFit(\n",
    "        model,\n",
    "        xdata,\n",
    "        ydata,\n",
    "        sigx_abs,\n",
    "        sigy_abs,\n",
    "        p0=None,  # data and uncertaintites\n",
    "    )\n",
    "\n",
    "    # setting any of the above names to None will remove the entry from the legend,\n",
    "    #  if not specified, use default\n",
    "\n",
    "    print(\"*==* data set\")\n",
    "    print(\"  x = \", xdata)\n",
    "    print(\"  sx = \", sigx_abs)\n",
    "    print(\"  y = \", ydata)\n",
    "    print(\"  sy = \", sigy_abs)\n",
    "    print(\"*==* fit result:\")\n",
    "    print(\"  -> chi2:         %.3g\" % chi2)\n",
    "    np.set_printoptions(precision=3)\n",
    "    print(\"  -> parameters:   \", par)\n",
    "    np.set_printoptions(precision=2)\n",
    "    print(\"  -> uncertainties:\", pare)\n",
    "    print(\"  -> correlation matrix: \\n\", cor)"
   ]
  }
 ],
 "metadata": {
  "anaconda-cloud": {},
  "kernelspec": {
   "display_name": "Python 3",
   "language": "python",
   "name": "python3"
  },
  "language_info": {
   "codemirror_mode": {
    "name": "ipython",
    "version": 3
   },
   "file_extension": ".py",
   "mimetype": "text/x-python",
   "name": "python",
   "nbconvert_exporter": "python",
   "pygments_lexer": "ipython3",
   "version": "3.6.13"
  }
 },
 "nbformat": 4,
 "nbformat_minor": 4
}
