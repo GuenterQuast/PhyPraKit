{
 "cells": [
  {
   "cell_type": "markdown",
   "metadata": {},
   "source": [
    "## Einlesen von Daten des PicoTech Datenloggers\n",
    "\n",
    "Der Beispielcode `test_readtxt.py` nutzt *readtxt()* um Dateien im\n",
    "Spaltenforamt einzulesen, hier verwendet, um die Ausgabe eines 8-Kanal\n",
    "PicoTech Datenloggers mit zwei Kopfzeilen und durch Tabulator getrennten\n",
    "Werten einzulesen.  "
   ]
  },
  {
   "cell_type": "code",
   "execution_count": null,
   "metadata": {},
   "outputs": [],
   "source": [
    "#\n",
    "\"\"\"test_readtxt.py \n",
    "   uses readtxt() to read floating-point column-data in very general \n",
    "   .txt formats, here the output from PicoTech 8 channel data logger,\n",
    "   with '\\t' separated values, 2 header lines,\n",
    "   german decimal comma and special character '^@'\n",
    "\n",
    ".. moduleauthor:: Guenter Quast <g.quast@kit.edu>\n",
    "\n",
    "\"\"\"\n",
    "\n",
    "from __future__ import print_function  # for python2.7 compatibility\n",
    "\n",
    "# -----example Code illustrating usage of readtxt() -------------\n",
    "if __name__ == \"__main__\":\n",
    "  import numpy as np, matplotlib.pyplot as plt, PhyPraKit as ppk\n",
    "  from scipy import interpolate, signal\n",
    "  import sys\n",
    "  \n",
    "  # check for / read command line arguments\n",
    "  if len(sys.argv)==2:\n",
    "    fname = sys.argv[1]\n",
    "  else:\n",
    "    fname = \"Temperaturen.txt\"  # output of PicoTech 8 channel data logger\n",
    "                                # '\\t' separated values, 2 header lines\n",
    "                                # german decimal comma, special char '^@'\n",
    "  print('\\n*==* script ' + sys.argv[0]+ ' executing \\n',\\\n",
    "      '     processing file ' + fname) \n",
    "\n",
    "  # read data from file in .txt format\n",
    "  hlines, data = ppk.readtxt(fname, delim='\\t', nlhead=2)\n",
    "  print(hlines)\n",
    "  print(\" --> number of columns\", data.shape[0])\n",
    "  print(\" --> number of data points\", data.shape[1])\n",
    "\n",
    "# make a plots\n",
    "  fig=plt.figure(1, figsize=(10, 7.5))\n",
    "  fig.suptitle('Script: test_readtxt.py', size='x-large', color='b')\n",
    "  fig.subplots_adjust(left=0.14, bottom=0.1, right=0.97, top=0.93,\n",
    "                    wspace=None, hspace=.25)#\n",
    "\n",
    "  ax1=fig.add_subplot(1, 1, 1)\n",
    "  t = data[0]    \n",
    "  ax1.plot(t, data[1], alpha=0.5, label='Kanal1')\n",
    "  ax1.plot(t, data[2], alpha=0.5, label='Kanal2')\n",
    "  ax1.plot(t, data[3], alpha=0.5, label='Kanal3')\n",
    "  ax1.plot(t, data[4], alpha=0.5, label='Kanal4')\n",
    "  ax1.plot(t, data[5], alpha=0.5, label='Kanal5')\n",
    "  ax1.plot(t, data[6], alpha=0.5, label='Kanal6')\n",
    "  ax1.plot(t, data[7], alpha=0.5, label='Kanal7')\n",
    "\n",
    "  ax1.set_ylabel('Spannung (mV)', size='large')\n",
    "  ax1.set_xlabel('Zeit (s)', size='large')\n",
    "  ax1.legend(loc='best', numpoints=1, prop={'size':10})\n",
    "  ax1.grid()\n",
    " \n",
    "  plt.show()\n"
   ]
  }
 ],
 "metadata": {
  "anaconda-cloud": {},
  "kernelspec": {
   "display_name": "Python 3",
   "language": "python",
   "name": "python3"
  },
  "language_info": {
   "codemirror_mode": {
    "name": "ipython",
    "version": 3
   },
   "file_extension": ".py",
   "mimetype": "text/x-python",
   "name": "python",
   "nbconvert_exporter": "python",
   "pygments_lexer": "ipython3",
   "version": "3.6.13"
  }
 },
 "nbformat": 4,
 "nbformat_minor": 4
}
