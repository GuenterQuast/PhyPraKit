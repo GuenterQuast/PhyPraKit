{
 "cells": [
  {
   "cell_type": "markdown",
   "metadata": {},
   "source": [
    "## Einlesen von Cassy-Daten im *.txt*-Format\n",
    "\n",
    "Dieses kurze Codebeispiel liest Ausgabedateien von Leybold CASSY im *.txt*-Format. \n",
    "Die Kopfzeilen und Daten von Messreihen werden als Listen in Python zur Verfügung \n",
    "gestellt.\n",
    "\n"
   ]
  },
  {
   "cell_type": "code",
   "execution_count": null,
   "metadata": {},
   "outputs": [],
   "source": [
    "#\n",
    "\"\"\"test_readCassy.py \n",
    "   read data exported by Leybold Cassylab in .txt format \n",
    "\n",
    ".. moduleauthor:: Guenter Quast <g.quast@kit.edu>\n",
    "\n",
    "\"\"\"\n",
    "\n",
    "from __future__ import print_function  # for python2.7 compatibility\n",
    "\n",
    "# -----example Code illustrating usage --------------------\n",
    "if __name__ == \"__main__\":\n",
    "    import numpy as np, matplotlib.pyplot as plt\n",
    "    from PhyPraKit import readCassy\n",
    "    from scipy import interpolate\n",
    "    from scipy import signal\n",
    "    import sys\n",
    "\n",
    "    # check for / read command line arguments\n",
    "    if len(sys.argv) == 2:\n",
    "        fname = sys.argv[1]\n",
    "    else:\n",
    "        fname = \"Cassy.txt\"\n",
    "    print(\n",
    "        (\n",
    "            \"\\n*==* script \" + sys.argv[0] + \" executing \\n\",\n",
    "            \"     processing file \" + fname,\n",
    "        )\n",
    "    )\n",
    "\n",
    "    # read data exported by CASSY in .txt format\n",
    "    tags, data = readCassy(fname, prlevel=2)\n",
    "    ic = len(data)\n",
    "\n",
    "    t = data[0]\n",
    "    # make a plot\n",
    "    fig = plt.figure(1, figsize=(10.0, 5.0))\n",
    "    ax1 = fig.add_subplot(1, 1, 1)\n",
    "    l = min(len(t), 5000)\n",
    "    for i in range(1, ic):\n",
    "        ax1.plot(t[:l], data[i, :l])\n",
    "\n",
    "    plt.show()"
   ]
  }
 ],
 "metadata": {
  "anaconda-cloud": {},
  "kernelspec": {
   "display_name": "Python 3",
   "language": "python",
   "name": "python3"
  },
  "language_info": {
   "codemirror_mode": {
    "name": "ipython",
    "version": 3
   },
   "file_extension": ".py",
   "mimetype": "text/x-python",
   "name": "python",
   "nbconvert_exporter": "python",
   "pygments_lexer": "ipython3",
   "version": "3.6.13"
  }
 },
 "nbformat": 4,
 "nbformat_minor": 4
}
