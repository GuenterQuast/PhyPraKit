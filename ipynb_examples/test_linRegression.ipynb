{
 "cells": [
  {
   "cell_type": "markdown",
   "metadata": {},
   "source": [
    "## Lineare Regression \n",
    "\n",
    "Dieses Beispiel (`test_linRegression`) ist eine einfachere Version mit\n",
    "`python`-Bordmitteln zur Anpassung einer Geraden an Messdaten mit Unsicherheiten\n",
    "in Ordinaten- und Abszissenrichtung. Korrelierte Unsicherheiten werden nicht unterstützt."
   ]
  },
  {
   "cell_type": "raw",
   "metadata": {},
   "source": [
    "#! /usr/bin/env python\n",
    "''' test linear regression with errors in x an y with odFIT\n",
    "    (using ODR package from scipy)\n",
    " \n",
    "..  author:: Guenter Quast <g.quast@kit.edu>\n",
    "'''\n",
    "\n",
    "from __future__ import print_function  # for python2.7 compatibility\n",
    "\n",
    "import numpy as np, matplotlib.pyplot as plt\n",
    "from PhyPraKit import generateXYdata, odFit\n",
    "\n",
    "def fitf(x, a, b):     \n",
    "  ''' linear model \n",
    "  '''   \n",
    "  return a*x + b\n",
    "\n",
    "# -- define test configuration \n",
    "xmin =  1.\n",
    "xmax =  10.\n",
    "#  the model y(x) \n",
    "a_true = 0.3\n",
    "b_true = 1.0\n",
    "def model(x):\n",
    "   return a_true*x + b_true\n",
    "  \n",
    "# set some uncertainties\n",
    "sigx_abs = 0.2  # absolute error on x \n",
    "sigy_rel = 0.05 # relative error on y\n",
    "\n",
    "xdata=np.arange(xmin, xmax+1. ,1.)\n",
    "nd=len(xdata)\n",
    "\n",
    "# generate pseudo data\n",
    "xt, yt, ydata = generateXYdata(xdata, model, sigx_abs, 0., srely=sigy_rel)\n",
    "ex=sigx_abs * np.ones(nd) # set array of x errors\n",
    "ey=sigy_rel* yt * np.ones(nd) # set array of y errors\n",
    "\n",
    "# (numerical) linear regression\n",
    "par, pare, cor, chi2 = odFit(fitf, \n",
    "  xdata, ydata, ex, ey, p0=(1., 1.))\n",
    "\n",
    "# print data and fit result, show plot\n",
    "print('*==* input data')\n",
    "print(('  x = ', xdata))\n",
    "print(('  sx = ', ex))\n",
    "print(('  y = ', ydata))\n",
    "print(('  sy = ', ey))\n",
    "print('fit result')\n",
    "print(('  a=%.2f+-%.2f, b=%.2f+-%.2f, corr=%.2f, chi2/df=%.2f\\n'\\\n",
    "% (par[0], pare[0], par[1], pare[1], cor[0,1], chi2/(nd-2.))))\n",
    "fig0=plt.figure('1st data set', figsize=(5., 5.))\n",
    "plt.errorbar(xdata, ydata, xerr=ex, yerr=ey, fmt='rx' )\n",
    "xplt=np.linspace(xmin, xmax,100) \n",
    "plt.plot(xplt, par[0]*xplt+par[1], 'g-')\n",
    "plt.xlabel('x')\n",
    "plt.ylabel('y')\n",
    "      \n",
    "plt.show()\n"
   ]
  }
 ],
 "metadata": {
  "anaconda-cloud": {},
  "kernelspec": {
   "display_name": "Python 3",
   "language": "python",
   "name": "python3"
  },
  "language_info": {
   "codemirror_mode": {
    "name": "ipython",
    "version": 3
   },
   "file_extension": ".py",
   "mimetype": "text/x-python",
   "name": "python",
   "nbconvert_exporter": "python",
   "pygments_lexer": "ipython3",
   "version": "3.6.13"
  }
 },
 "nbformat": 4,
 "nbformat_minor": 4
}
