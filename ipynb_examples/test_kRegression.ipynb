{
  "cells": [
    {
      "cell_type": "code",
      "metadata": {},
      "source": [
        "#! /usr/bin/env python\n",
        "'''test_kRegression\n",
        "   test linear regression with kafe using kFit from PhyPrakKit\n",
        "   uncertainties in x and y and correlated \n",
        "   absolute and relative uncertainties\n",
        "\n",
        ".. moduleauthor:: Guenter Quast <g.quast@kit.edu>\n",
        "'''\n",
        "\n",
        "from __future__ import print_function  # for python2.7 compatibility\n",
        "\n",
        "import kafe # must be imported first to set backend\n",
        "from PhyPraKit import generateXYdata, kFit\n",
        "from kafe.function_library import linear_2par\n",
        "import numpy as np, matplotlib.pyplot as plt\n",
        "\n",
        "# -- the model function for data generation \n",
        "def model(x, a=0.3, b=1.):\n",
        "  ''' simple linear function\n",
        "  '''\n",
        "  return a*x + b \n",
        "\n",
        "if __name__ == \"__main__\": # --------------------------------------  \n",
        "\n",
        "# set some uncertainties\n",
        "  sigx_abs = 0.2 # absolute error on x \n",
        "  sigy_rel = 0.1 # relative error on y\n",
        "#       errors of this kind only supported by kafe\n",
        "  sxrelcor=0.05 #  a relative, correlated error on x \n",
        "  syabscor=0.1  #  an absolute, correlated error on y\n",
        "  xmin =  1.\n",
        "  xmax =  10.\n",
        "\n",
        "  xdata=np.arange(xmin, xmax+1. ,1.)\n",
        "  nd=len(xdata)\n",
        "# generate pseudo data\n",
        "  xt, yt, ydata = generateXYdata(xdata, model,\n",
        "        sigx_abs, 0., srely=sigy_rel, xrelcor=sxrelcor, yabscor=syabscor)\n",
        "  ey=sigy_rel* yt * np.ones(nd) # set array of relative y errors\n",
        "\n",
        "# (numerical) linear regression\n",
        "  par, pare, cor, chi2 = kFit(linear_2par, \n",
        "    xdata, ydata,  sigx_abs, ey, p0=(1., 1.), # p0e=(0.2, 0.2),\n",
        "    xrelcor=sxrelcor, yabscor=syabscor,\n",
        "    plot=True, quiet=True)\n",
        "\n",
        "  print('*==* input data')\n",
        "  print(('  x = ', xdata))\n",
        "  print(('  sx = ', sigx_abs))\n",
        "  print(('  y = ', ydata))\n",
        "  print(('  sy = ', ey))\n",
        "  print('fit result:')\n",
        "  print(('  a=%.2f+-%.2f, b=%.2f+-%.2f, corr=%.2f, chi2/df=%.2f\\n'\\\n",
        "      % (par[0], pare[0], par[1], pare[1], cor[0,1], chi2/(nd-2.))))\n"
      ],
      "outputs": [],
      "execution_count": null
    }
  ],
  "metadata": {
    "anaconda-cloud": {},
    "kernelspec": {
      "display_name": "Python 3",
      "language": "python",
      "name": "python3"
    },
    "language_info": {
      "codemirror_mode": {
        "name": "ipython",
        "version": 3
      },
      "file_extension": ".py",
      "mimetype": "text/x-python",
      "name": "python",
      "nbconvert_exporter": "python",
      "pygments_lexer": "ipython3",
      "version": "3.6.1"
    }
  },
  "nbformat": 4,
  "nbformat_minor": 4
}