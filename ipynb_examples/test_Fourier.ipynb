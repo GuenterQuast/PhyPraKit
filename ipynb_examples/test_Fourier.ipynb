{
 "cells": [
  {
   "cell_type": "markdown",
   "metadata": {},
   "source": [
    "## Fourier-Analyse\n",
    "Dieses Codebeispiel illustriert die Durchführung einer \n",
    "Fourier-Transfomation eines periodischen Signals, das in \n",
    "der PicoScope-Ausgabedatei `Wellenform.csv` enthalten ist.\n",
    "   "
   ]
  },
  {
   "cell_type": "code",
   "execution_count": null,
   "metadata": {},
   "outputs": [],
   "source": [
    "#\n",
    "\"\"\"test_Fourier.py \n",
    "   Read data exported with PicoScope usb-oscilloscpe,\n",
    "   here the accoustic excitation of a steel rod\n",
    "\n",
    "   Demonstraion of a Fourier transformation of the signal\n",
    "\n",
    "  \n",
    ".. moduleauthor:: Guenter Quast <g.quast@kit.edu>\n",
    "\n",
    "\"\"\"\n",
    "\n",
    "from __future__ import print_function  # for python2.7 compatibility\n",
    "\n",
    "# -----example Code illustrating usage of FourierSpectrum ------\n",
    "if __name__ == \"__main__\":\n",
    "  import numpy as np, matplotlib.pyplot as plt, PhyPraKit as ppk\n",
    "  from scipy import interpolate, signal\n",
    "  import sys\n",
    "  \n",
    "  # check for / read command line arguments\n",
    "  if len(sys.argv)==2:\n",
    "    fname = sys.argv[1]\n",
    "  else:\n",
    "    fname = \"Wellenform.csv\"\n",
    "  print('\\n*==* script ' + sys.argv[0]+ ' executing \\n',\\\n",
    "      '     processing file ' + fname) \n",
    "\n",
    "  # read data from PicoScope\n",
    "  units, data = ppk.readPicoScope(fname, prlevel=2)\n",
    "  t = data[0]    \n",
    "  a = data[1]\n",
    "\n",
    "  print(\"** Fourier Spectrum\")\n",
    "  freq, amp = ppk.FourierSpectrum(t, a, fmax=20)\n",
    " # freq, amp = ppk.Fourier_fft(t, a)  # use fast algorithm\n",
    "  frequency = freq[np.where(amp==max(amp))]\n",
    "  print(\" --> Frequenz mit max. Amplitude: \", frequency)\n",
    "\n",
    "# make  plots\n",
    "  fig=plt.figure(1, figsize=(7.5, 7.5))\n",
    "  fig.suptitle('Script: test_Fourier.py', size='x-large', color='b')\n",
    "  fig.subplots_adjust(left=0.14, bottom=0.1, right=0.97, top=0.93,\n",
    "                    wspace=None, hspace=.25)#\n",
    "  ax1=fig.add_subplot(2, 1, 1)\n",
    "  ax1.plot(t, a)\n",
    "  ax1.set_xlabel('$time$ '+units[0], size='large')\n",
    "  ax1.set_ylabel('$Amplitude$ '+units[1], size='large')\n",
    "  ax1.grid()\n",
    "\n",
    "  ax2=fig.add_subplot(2,1,2)\n",
    "  ax2.plot(freq, amp, 'b-')\n",
    "  ax2.set_xlabel('$Frequenz$ $f$ (kHz)', size='large')\n",
    "  ax2.set_ylabel('$Amplitude$', size='large')\n",
    "  ax2.set_yscale('log')\n",
    "  ax2.grid()\n",
    "\n",
    "  plt.show()\n"
   ]
  }
 ],
 "metadata": {
  "anaconda-cloud": {},
  "kernelspec": {
   "display_name": "Python 3",
   "language": "python",
   "name": "python3"
  },
  "language_info": {
   "codemirror_mode": {
    "name": "ipython",
    "version": 3
   },
   "file_extension": ".py",
   "mimetype": "text/x-python",
   "name": "python",
   "nbconvert_exporter": "python",
   "pygments_lexer": "ipython3",
   "version": "3.6.13"
  }
 },
 "nbformat": 4,
 "nbformat_minor": 4
}
