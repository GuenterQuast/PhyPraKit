{
  "cells": [
    {
      "cell_type": "code",
      "metadata": {},
      "source": [
        "# Mittelung korrelierter Messwerte mit kafe2 / k2Fit\n",
        "\n",
        "import numpy as np, matplotlib.pyplot as plt\n",
        "import PhyPraKit as ppk\n",
        "\n",
        "# das Modell\n",
        "def fitf(x, c):\n",
        "   # das Ergebnis muss ein Vektor der L\u00e4nge von x sein\n",
        "   if len(np.shape(x))==0:\n",
        "     return c\n",
        "   else:\n",
        "     return c*np.ones(len(x)) \n",
        "\n",
        "# Daten und Unsicherheiten\n",
        "x = np.arange(6)+1.\n",
        "m = np.array([0.82, 0.81, 1.32, 1.44, 0.93, 0.99])\n",
        "sig_u = 0.1 # unabh\u00e4ngig\n",
        "sig_s = 0.15 # korreliert f\u00fcr Messungen (1,2), (3,4) und (5,6)\n",
        "sig_t = 0.05 # korreliert f\u00fcr alle Messungen\n",
        "\n",
        "# Konstruktion der Komponenten f\u00fcr die Kovarianz-Matrix\n",
        "sys_y= [[sig_t, sig_t, sig_t, sig_t, sig_t, sig_t],\n",
        "        [sig_s, sig_s, 0. ,0. ,0. ,0.], \n",
        "        [0., 0., sig_s, sig_s, 0., 0.], \n",
        "        [0., 0., 0., 0., sig_s, sig_s] ]\n",
        "\n",
        "# Fit ausf\u00fchren\n",
        "par, pare, cor, chi2 = ppk.k2Fit(fitf, x , m, sx=0., sy=sig_u, yabscor = sys_y)\n"
      ],
      "outputs": [],
      "execution_count": null
    }
  ],
  "metadata": {
    "anaconda-cloud": {},
    "kernelspec": {
      "display_name": "Python 3",
      "language": "python",
      "name": "python3"
    },
    "language_info": {
      "codemirror_mode": {
        "name": "ipython",
        "version": 3
      },
      "file_extension": ".py",
      "mimetype": "text/x-python",
      "name": "python",
      "nbconvert_exporter": "python",
      "pygments_lexer": "ipython3",
      "version": "3.6.1"
    }
  },
  "nbformat": 4,
  "nbformat_minor": 4
}