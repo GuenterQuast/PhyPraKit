{
  "cells": [
    {
      "cell_type": "code",
      "metadata": {},
      "source": [
        "#! /usr/bin/env python\n",
        "\"\"\"test_k2Fit\n",
        "\n",
        "   test fitting simple line with kafe2, without any errors given\n",
        "\n",
        ".. moduleauthor:: Guenter Quast <g.quast@kit.edu>\n",
        "\"\"\"\n",
        "\n",
        "from __future__ import print_function  # for python2.7 compatibility\n",
        "\n",
        "# import kafe2 # must be imported first to properly set matplotlib backend\n",
        "from PhyPraKit import generateXYdata, k2Fit\n",
        "import numpy as np, matplotlib.pyplot as plt\n",
        "\n",
        "# -- the model function\n",
        "def model(x, a=1., b=0):\n",
        "   return a*x + b \n",
        "\n",
        "if __name__ == \"__main__\": # --------------------------------------  \n",
        "\n",
        "# parameters for the generation of test data\n",
        "  xmin =  1.\n",
        "  xmax =  10.\n",
        "  xdata=np.arange(xmin, xmax+1. ,1.)\n",
        "  ydata=[1.1, 1.9, 2.95, 4.1, 4.9, 6.2, 6.85, 8.05, 8.9, 10.15]\n",
        "  ey=None\n",
        "# fit with kafe2\n",
        "  par, pare, cor, chi2 = k2Fit(model, xdata, ydata, sy=ey)\n",
        "\n",
        "  print('*==* data set')\n",
        "  print('  x = ', xdata)\n",
        "  print('  y = ', ydata)\n",
        "  print('  sy = ', ey)\n",
        "  print('*==* fit result:')\n",
        "  print(\"  -> chi2:         %.3g\"%chi2)\n",
        "  np.set_printoptions(precision=3)\n",
        "  print(\"  -> parameters:   \", par)\n",
        "  np.set_printoptions(precision=2)\n",
        "  print(\"  -> uncertainties:\", pare) \n",
        "  print(\"  -> correlation matrix: \\n\", cor) \n"
      ],
      "outputs": [],
      "execution_count": null
    }
  ],
  "metadata": {
    "anaconda-cloud": {},
    "kernelspec": {
      "display_name": "Python 3",
      "language": "python",
      "name": "python3"
    },
    "language_info": {
      "codemirror_mode": {
        "name": "ipython",
        "version": 3
      },
      "file_extension": ".py",
      "mimetype": "text/x-python",
      "name": "python",
      "nbconvert_exporter": "python",
      "pygments_lexer": "ipython3",
      "version": "3.6.1"
    }
  },
  "nbformat": 4,
  "nbformat_minor": 4
}