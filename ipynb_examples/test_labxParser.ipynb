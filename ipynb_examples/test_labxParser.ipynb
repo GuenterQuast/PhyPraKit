{
  "cells": [
    {
      "cell_type": "code",
      "metadata": {},
      "source": [
        "# -*- coding: utf-8 -*-\n",
        "'''test_labxParser.py\n",
        "   read files in xml-format produced with the Leybold Cassy system  \n",
        "   uses PhyPraPit.labxParser()\n",
        "\n",
        ".. moduleauthor:: Guenter Quast <g.quast@kit.edu>\n",
        "\n",
        "'''\n",
        "\n",
        "from __future__ import print_function  # for python2.7 compatibility\n",
        "\n",
        "# -----example Code illustrating usage --------------------\n",
        "if __name__ == \"__main__\":\n",
        "  import sys, numpy as np, matplotlib.pyplot as plt\n",
        "  from PhyPraKit import odFit, labxParser\n",
        "  from scipy import interpolate\n",
        "\n",
        "# check for / read command line arguments\n",
        "  if len(sys.argv)==2:\n",
        "    fname = sys.argv[1]\n",
        "  else:\n",
        "    fname = \"CassyExample.labx\"\n",
        "  print(('*==* script ' + sys.argv[0]+ ' executing \\n',\\\n",
        "      '     processing file ' + fname)) \n",
        "\n",
        "\n",
        "  names, values = labxParser(fname, prlevel=0)\n",
        "\n",
        "  for i, tag in enumerate(names):\n",
        "     print((tag, len(values[i])))\n"
      ],
      "outputs": [],
      "execution_count": null
    }
  ],
  "metadata": {
    "anaconda-cloud": {},
    "kernelspec": {
      "display_name": "Python 3",
      "language": "python",
      "name": "python3"
    },
    "language_info": {
      "codemirror_mode": {
        "name": "ipython",
        "version": 3
      },
      "file_extension": ".py",
      "mimetype": "text/x-python",
      "name": "python",
      "nbconvert_exporter": "python",
      "pygments_lexer": "ipython3",
      "version": "3.6.1"
    }
  },
  "nbformat": 4,
  "nbformat_minor": 4
}