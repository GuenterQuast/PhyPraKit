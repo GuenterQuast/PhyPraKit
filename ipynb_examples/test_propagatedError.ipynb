{
  "cells": [
    {
      "cell_type": "code",
      "metadata": {},
      "source": [
        "#\n",
        "\"\"\"test_propagatedError.py\n",
        "   Beispiel: Numerische Fehlerfortpflanzung mit PhyPraKit.prpagatedError()\n",
        "   Illustriert auch die Verwendung der Rundung auf die Genauigkeit der\n",
        "   Unsicherheit.\n",
        "   \n",
        ".. moduleauthor:: Guenter Quast <g.quast@kit.edu>\n",
        "\"\"\"\n",
        "from PhyPraKit import propagatedError, ustring\n",
        "import numpy as np\n",
        "\n",
        "# -example Code illustrating usage propagated Error and round_toError -----\n",
        "if __name__ == \"__main__\":\n",
        "\n",
        "# Funktion von Messgr\u00f6\u00dfen\n",
        "  def func(a, b):\n",
        "    return np.sqrt(a**2 + b**2)\n",
        "\n",
        "# Eingabewerte\n",
        "  a=1.12 ; sa=0.5\n",
        "  b=0.95 ; sb=0.5\n",
        "\n",
        "# Berechnung der Unsicherheit auf func(a,b)\n",
        "  Delta_f = propagatedError(func, (a, b), (sa, sb) )\n",
        "\n",
        "## simple output\n",
        "  print('\\n',\n",
        "        '*==* Numerical error propagation:\\n',\n",
        "        '    simple output:')\n",
        "  print('      func(', a, '+/-', sa, ',', b, '+/-', sb, ') : ',\n",
        "         func(a,b), '+/-', Delta_f)\n",
        "\n",
        "  # output with percisions rounded to precision of uncertainty\n",
        "  print('     correctly formatted output: ')\n",
        "  print('      func(', ustring(a, sa), ',', ustring(b, sb),') = ',\n",
        "               ustring(func(a,b), Delta_f)\n",
        "       )\n",
        "\n",
        "\n"
      ],
      "outputs": [],
      "execution_count": null
    }
  ],
  "metadata": {
    "anaconda-cloud": {},
    "kernelspec": {
      "display_name": "Python 3",
      "language": "python",
      "name": "python3"
    },
    "language_info": {
      "codemirror_mode": {
        "name": "ipython",
        "version": 3
      },
      "file_extension": ".py",
      "mimetype": "text/x-python",
      "name": "python",
      "nbconvert_exporter": "python",
      "pygments_lexer": "ipython3",
      "version": "3.6.1"
    }
  },
  "nbformat": 4,
  "nbformat_minor": 4
}