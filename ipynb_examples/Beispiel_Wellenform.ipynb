{
 "cells": [
  {
   "cell_type": "markdown",
   "metadata": {},
   "source": [
    "## Analyse einer Wellenform  \n",
    "Dieses Beispiel zeigt eine typische Auswertung\n",
    "periodischer Daten am Beispiel der akustischen Anregung eines \n",
    "Metallstabs. Genutzt werden Fourier-Transformation und eine \n",
    "Autokorrelationsanalyse sowie eine Suche nach charakteristischen \n",
    "Extrema. Die Zeitdifferenzen zwischen deren Auftreten im Muster \n",
    "werden bestimmt, als Häufgkeitsverteilung dargestellt und die \n",
    "Verteilungen statistisch ausgewertet."
   ]
  },
  {
   "cell_type": "markdown",
   "metadata": {},
   "source": [
    "## Imports"
   ]
  },
  {
   "cell_type": "code",
   "execution_count": null,
   "metadata": {},
   "outputs": [],
   "source": [
    "# -*- coding: utf-8 -*-\n",
    "\"\"\"Beispiel_Wellenform.py \n",
    "   Einlesen von Daten aus dem mit PicoScope erstellten Dateien\n",
    "   am Beispiel der akustischen Anregung eines Stabes\n",
    "\n",
    "   - Fourier-Analyse des Signals\n",
    "\n",
    "   - Bestimmung der Resonanzfrequenz mittels Autokorrelation\n",
    "  \n",
    ".. moduleauthor:: Guenter Quast <g.quast@kit.edu>\n",
    "\n",
    "\n",
    "\n",
    "\"\"\"\n",
    "\n",
    "# last changed: Jan. 2023\n",
    "\n",
    "# imports\n",
    "import numpy as np, matplotlib.pyplot as plt, PhyPraKit as ppk\n",
    "from scipy import interpolate, signal\n",
    "import sys"
   ]
  },
  {
   "cell_type": "markdown",
   "metadata": {},
   "source": [
    "## Einlesen der Daten, Darstellung von Amplitudenverlauf und Frequenzspektrum"
   ]
  },
  {
   "cell_type": "code",
   "execution_count": null,
   "metadata": {},
   "outputs": [],
   "source": [
    "# input data\n",
    "fname = \"Wellenform.csv\"\n",
    "print(\"\\n*==* script \" + sys.argv[0] + \" executing \\n\", \"     processing file \" + fname)\n",
    "\n",
    "# read data from PicoScope\n",
    "units, data = ppk.readPicoScope(fname, prlevel=2)\n",
    "t = data[0]\n",
    "a = data[1]\n",
    "\n",
    "print(\"** Fourier Spectrum\")\n",
    "freq, amp = ppk.FourierSpectrum(t, a, fmax=20)\n",
    "# freq, amp = ppk.Fourier_fft(t, a)  # use fast algorithm\n",
    "frequency = freq[np.where(amp == max(amp))]\n",
    "print(\" --> Frequenz mit max. Amplitude: \", frequency)\n",
    "\n",
    "\n",
    "# make plots\n",
    "fig = plt.figure(1, figsize=(10.0, 5.0))\n",
    "fig.suptitle(\"Script: Beispiel_Wellenform.py\", size=\"x-large\", color=\"b\")\n",
    "fig.subplots_adjust(\n",
    "    left=0.14, bottom=0.1, right=0.97, top=0.93, wspace=None, hspace=0.25\n",
    ")  #\n",
    "# Signalverlauf\n",
    "ax1 = fig.add_subplot(1, 2, 1)\n",
    "ax1.plot(t, a)\n",
    "ax1.set_xlabel(\"$Zeit$ \" + units[0], size=\"large\")\n",
    "ax1.set_ylabel(\"$Amplitude$ \" + units[1], size=\"large\")\n",
    "ax1.grid()\n",
    "# Fourier-Spektrum\n",
    "ax2 = fig.add_subplot(1, 2, 2)\n",
    "ax2.plot(freq, amp, \"b-\")\n",
    "ax2.set_xlabel(\"$Frequenz$ $f$ (kHz)\", size=\"large\")\n",
    "ax2.set_ylabel(\"$Amplitude$\", size=\"large\")\n",
    "ax2.set_yscale(\"log\")\n",
    "ax2.grid()"
   ]
  },
  {
   "cell_type": "markdown",
   "metadata": {},
   "source": [
    "## Autokorrleationsanalyse und Auswertung"
   ]
  },
  {
   "cell_type": "code",
   "execution_count": null,
   "metadata": {},
   "outputs": [],
   "source": [
    "# calculate autocorrelation function\n",
    "print(\"** Autocorrelation Function\")\n",
    "ac_a = ppk.autocorrelate(a)\n",
    "ac_t = t - t[0]\n",
    "\n",
    "# run peak finder\n",
    "width = 80\n",
    "#  use convoluted template filter\n",
    "pidx = ppk.convolutionPeakfinder(ac_a, width, th=0.4)\n",
    "if len(pidx) > 3:\n",
    "    print(\" --> %i auto-correlation peaks found\" % (len(pidx)))\n",
    "    pidx[0] = 0  # first peak is at 0 by construction\n",
    "    tp, ap = np.array(ac_t[pidx]), np.array(ac_a[pidx])\n",
    "else:\n",
    "    print(\"*!!* not enough peaks found - tune peakfinder parameters!\")\n",
    "    sys.exit(1)\n",
    "\n",
    "# Filter peaks and dips:  keep only largest ones\n",
    "#    !!! need inspection by eye to ensure correct peaks are identified\n",
    "tpm = []\n",
    "apm = []\n",
    "for i, ti in enumerate(tp):\n",
    "    if ap[i] > 0.137:\n",
    "        tpm.append(tp[i])\n",
    "        apm.append(ap[i])\n",
    "tpm = np.array(tpm)\n",
    "apm = np.array(apm)\n",
    "\n",
    "print(\" --> %i (large) peaks found\" % len(tpm))\n",
    "\n",
    "# make plots\n",
    "fig = plt.figure(2, figsize=(10.0, 5.0))\n",
    "fig.suptitle(\"Script: Beispiel_Wellenform.py\", size=\"x-large\", color=\"b\")\n",
    "fig.subplots_adjust(\n",
    "    left=0.14, bottom=0.1, right=0.97, top=0.93, wspace=None, hspace=0.25\n",
    ")  #\n",
    "\n",
    "# Auto-Korrelation\n",
    "ax3 = fig.add_subplot(1, 2, 1)\n",
    "ax3.plot(tpm, apm, \"rx\", alpha=0.9, label=\"large peaks\")\n",
    "ax3.plot(ac_t, ac_a)\n",
    "ax3.plot([0.0, ac_t[-1]], [1.0, 0.0], \"m--\", alpha=0.3)  # maximum auto-correlation\n",
    "ax3.set_xlabel(\"$Zeit$ \" + units[0], size=\"large\")\n",
    "ax3.set_ylabel(\"$Autocorrelation$ \" + units[1], size=\"large\")\n",
    "ax3.legend(loc=\"best\", numpoints=1, prop={\"size\": 10})\n",
    "ax3.grid()\n",
    "# statistische Auswertung\n",
    "# plot distribution of time differences between peaks/dips\n",
    "dtp = tpm[1:] - tpm[:-1]\n",
    "ax4 = fig.add_subplot(1, 2, 2)\n",
    "bins = np.linspace(min(dtp), max(dtp), 50)\n",
    "bc, be, _ = ax4.hist(dtp, bins, stacked=True, color=\"r\", label=\"peaks\", alpha=0.5)\n",
    "ax4.set_xlabel(r\"$Zeitdifferenz\\,der\\,peaks$ (ms)\", size=\"large\")\n",
    "# ax4.legend(loc='best', numpoints=1, prop={'size':10})\n",
    "ax4.set_ylabel(r\"$H\\\"aufigkeit$\", size=\"large\")\n",
    "ax4.grid()\n",
    "\n",
    "print(\"** Histogram statistics:\")\n",
    "m_dtp, s_dtp, sm_dtp = ppk.histstat(bc, be, pr=False)\n",
    "print(\" --> mean time differnce of   peaks: (%.5g +/- %.2g) ms\" % (m_dtp, sm_dtp))\n",
    "ax4.text(\n",
    "    0.05,\n",
    "    0.9,\n",
    "    \"mean=(%.5g$\\pm$%.2g) ms\" % (m_dtp, max(sm_dtp, (be[1] - be[0]) / np.sqrt(12))),\n",
    "    transform=ax4.transAxes,\n",
    ")\n",
    "\n",
    "plt.show()"
   ]
  },
  {
   "cell_type": "code",
   "execution_count": null,
   "metadata": {},
   "outputs": [],
   "source": []
  }
 ],
 "metadata": {
  "anaconda-cloud": {},
  "kernelspec": {
   "display_name": "Python 3",
   "language": "python",
   "name": "python3"
  },
  "language_info": {
   "codemirror_mode": {
    "name": "ipython",
    "version": 3
   },
   "file_extension": ".py",
   "mimetype": "text/x-python",
   "name": "python",
   "nbconvert_exporter": "python",
   "pygments_lexer": "ipython3",
   "version": "3.6.15"
  }
 },
 "nbformat": 4,
 "nbformat_minor": 4
}
